{
 "cells": [
  {
   "cell_type": "markdown",
   "metadata": {},
   "source": [
    "# Tasks\n",
    "***"
   ]
  },
  {
   "cell_type": "markdown",
   "metadata": {},
   "source": [
    "Student Number: G00364639"
   ]
  },
  {
   "cell_type": "markdown",
   "metadata": {},
   "source": [
    "![title](img/GMIT-Galway-Campus.jpg)\n"
   ]
  },
  {
   "cell_type": "code",
   "execution_count": 1,
   "metadata": {},
   "outputs": [],
   "source": [
    "# overview of librarys and functions in README\n",
    "import numpy as np\n",
    "import pandas as pd\n",
    "import seaborn as sns\n",
    "import matplotlib.pyplot as plt\n",
    "import scipy.stats as stats\n",
    "from scipy.stats import shapiro\n",
    "from scipy.stats import norm\n",
    "from scipy.stats import ttest_rel\n",
    "import math\n",
    "from math import comb"
   ]
  },
  {
   "attachments": {},
   "cell_type": "markdown",
   "metadata": {},
   "source": [
    "# Task 1: Lady Tasting Tea\n",
    "### Permutations and Combinations\n",
    "***"
   ]
  },
  {
   "cell_type": "markdown",
   "metadata": {},
   "source": [
    "- *1* Suppose we alter the Lady Tasting Tea experiment to involve twelve cups of tea. Six have the milk in first and the other six having tea in first. A person claims they have the special power of being able to tell whether the tea or the milk went into a cup first upon tasting it. You agree to accept their claim if they can tell which of the six cups in your experiment had the milk in first.\n",
    "\n",
    "- *1.1* Calculate, using Python, the probability that they select the correct six cups. Here you should assume that they have no special powers in figuring it out, that they are just guessing. Remember to show and justify your workings in code and MarkDown cells.\n",
    "\n",
    "- *1.2* Suppose, now, you are willing to accept one error. Once they select the six cups they think had the milk in first, you will give them the benefit of the doubt should they have selected at least five of the correct cups. Calculate the probability, assuming they have no special powers, that the person makes at most one error.\n",
    "\n",
    "- *1.3* Would you accept two errors? Explain."
   ]
  },
  {
   "attachments": {},
   "cell_type": "markdown",
   "metadata": {},
   "source": [
    "### About the Lady Tasting Tea dataset\n",
    "\n",
    "***\n",
    "\n",
    "The Lady Tasting Tea is a randomized experiment devised by Ronald Fisher and reported in his book The Design of Experiments (1935). The experiment is the original exposition of Fisher's notion of a null hypothesis[1] Lady tasting tea, wikipedia, https://en.wikipedia.org/wiki/Lady_tasting_tea. The experiment provides the subject with eight random cups of tea, four are prepared by adding milk first and then tea & four are prepared by adding tea first and then milk. The way each cup of tea is not known by the subject. The subject attempts to select the 4 cups prepared by one method or the other."
   ]
  },
  {
   "cell_type": "markdown",
   "metadata": {},
   "source": [
    "#### Null Hypothesis \n",
    "\n",
    "The assumption that the subject had no skill in selecting the correct answer is known as the null hypothesis. It was introduced by Fisher, who also proposed a threshold probability of 1-in-20 or 5 per cent as a limit for statistical significance. [2] How a tea-tasting test led to a breakthrough in statistics, irishtimes, https://www.https://www.irishtimes.com/news/science/how-a-tea-tasting-test-led-to-a-breakthrough-in-statistics-1.3998786\n",
    "The null hypothesis is assumed to be true unless evidence emerges that indicates that it is invalid.  The null hypothesis is often denoted as H0 :  It represents an assumption that no significant difference, effect, or relationship exists between variables within a population. It serves as a baseline assumption, positing no observed change or effect occurring. The null is the truth or falsity of an idea in analysis. [3] Null Hypothesis, geeksforgeeks, https://www.geeksforgeeks.org/null-hypothesis/."
   ]
  },
  {
   "cell_type": "markdown",
   "metadata": {},
   "source": [
    "![title](img/null-hypothesis-example-and-definition.jpg)"
   ]
  },
  {
   "cell_type": "markdown",
   "metadata": {},
   "source": [
    "The *null hypothesis* proposed by Fisher was that the lady had no real ability to distinguish between the two methods and was guessing. To ascertain the statistical significance of her feat, Fisher used combinatorial analysis. He calculated that the probability of correctly identifying all cups purely by chance was approximately 1 in 70 (p-value < 0.05), sufficiently low for Fisher to reject the H0 (null hypothesis) and conclude that her ability to discern the tea order was statistically significant. [4] LEARN STATISTICS EASILY, statisticseasily, https://statisticseasily.com/lady-tasting-tea\n",
    "\n",
    "\n",
    "The *alternative hypothesis* is that the lady can distinguish between the two methods."
   ]
  },
  {
   "attachments": {},
   "cell_type": "markdown",
   "metadata": {},
   "source": [
    "## *1.1* Calculate, using Python, the probability that they select the correct six cups. Here you should assume that they have no special powers in figuring it out, that they are just guessing. Remember to show and justify your workings in code and MarkDown cells."
   ]
  },
  {
   "cell_type": "markdown",
   "metadata": {},
   "source": [
    "To simplify this step I will use *math.comb* which calculates the total number of combinations. The total number of possibilities to choose k things from n items. The math.comb() method returns the number of ways picking k unordered outcomes from n possibilities, without repetition, also known as combinations. The parameters passed in this method must be positive integers.[5] Python math.comb() Method, w3schools, https://www.w3schools.com/python/ref_math_comb.asp."
   ]
  },
  {
   "cell_type": "markdown",
   "metadata": {},
   "source": [
    "The following code block calculates the probability of selecting 6 cups prepared with milk first"
   ]
  },
  {
   "cell_type": "code",
   "execution_count": 2,
   "metadata": {},
   "outputs": [
    {
     "name": "stdout",
     "output_type": "stream",
     "text": [
      "The number of permutations for 12 cups is 924.\n"
     ]
    }
   ],
   "source": [
    "# create variable and assign a value 12, to represent each cup in experiment\n",
    "no_cups = 12\n",
    "# create variable and assign a value 6, to represent each cup where milk is added first\n",
    "no_cups_milk_first = 6\n",
    "# math.comb returns the number of ways to chose k items from n items without regard to order.\n",
    "total_ways = math.comb(no_cups, no_cups_milk_first)\n",
    "print(f'The number of permutations for 12 cups is {total_ways}.')"
   ]
  },
  {
   "cell_type": "markdown",
   "metadata": {},
   "source": [
    "To calculate probability we divide 1/924"
   ]
  },
  {
   "cell_type": "code",
   "execution_count": 3,
   "metadata": {},
   "outputs": [
    {
     "name": "stdout",
     "output_type": "stream",
     "text": [
      "The probability of selecting the correct six cups is 0.001082\n"
     ]
    }
   ],
   "source": [
    "# Calculate the probability of selecting the correct six cups\n",
    "probability = 1 / total_ways\n",
    "print(f\"The probability of selecting the correct six cups is {probability:.6f}\")"
   ]
  },
  {
   "cell_type": "markdown",
   "metadata": {},
   "source": [
    "The p-value is a number, between 0 & 1, which indicates how likely your data would have occurred by random chance\n",
    "A p-value, or probability value, is a number describing how likely it is that your data would have occurred by random chance (i.e., that the null hypothesis is true). The level of statistical significance is often expressed as a p-value between 0 and 1.The smaller the p-value, the less likely the results occurred by random chance, and the stronger the evidence that you should reject the null hypothesis.[6] P-Value And Statistical Significance: What It Is & Why It Matters, simplypsychology, https://www.simplypsychology.org/p-value.html."
   ]
  },
  {
   "cell_type": "markdown",
   "metadata": {},
   "source": [
    "- If the p-value is less than or equal to the significance level (commonly 0.05), we reject the null hypothesis. This indicates that the observed results are statistically significant and unlikely to be due to chance.\n",
    "- If the p-value is greater than the significance level, we accept the null hypothesis. This indicates that the observed results are not statistically significant and could be due to chance."
   ]
  },
  {
   "cell_type": "code",
   "execution_count": 4,
   "metadata": {},
   "outputs": [
    {
     "name": "stdout",
     "output_type": "stream",
     "text": [
      "we reject the null hypothesis.\n"
     ]
    }
   ],
   "source": [
    "if probability > 0.05:\n",
    "    print(\"We accept the null hypothesis.\")\n",
    "else:\n",
    "    print(\"we reject the null hypothesis.\")"
   ]
  },
  {
   "cell_type": "markdown",
   "metadata": {},
   "source": [
    "## *1.2* Suppose, now, you are willing to accept one error. Once they select the six cups they think had the milk in first, you will give them the benefit of the doubt should they have selected at least five of the correct cups. Calculate the probability, assuming they have no special powers, that the person makes at most one error."
   ]
  },
  {
   "cell_type": "markdown",
   "metadata": {},
   "source": [
    "I will use code created above which calculated the number of combinations of selecting 6 cups with milk first, which was 924. In addition, I will calculate amount of combinations of correctly selecting 5/6 cups with milk first (1 error) and multiply values"
   ]
  },
  {
   "cell_type": "code",
   "execution_count": 5,
   "metadata": {},
   "outputs": [
    {
     "name": "stdout",
     "output_type": "stream",
     "text": [
      "The number of permutations for 12 cups is 924.\n"
     ]
    }
   ],
   "source": [
    "# Total number of cups\n",
    "no_cups = 12 \n",
    "\n",
    "# Number of cups with milk in first\n",
    "no_cups_milk_first = 6\n",
    "\n",
    "# Calculate the total number of ways to choose 6 cups out of 12\n",
    "total_ways = math.comb(no_cups, no_cups_milk_first)\n",
    "print(f'The number of permutations for 12 cups is {total_ways}.')"
   ]
  },
  {
   "cell_type": "code",
   "execution_count": 6,
   "metadata": {},
   "outputs": [],
   "source": [
    "# Calculate the number of ways to choose the correct 6 cups\n",
    "correct_ways = 1"
   ]
  },
  {
   "cell_type": "markdown",
   "metadata": {},
   "source": [
    "calculating number of combinations of selcting 5 corrrectly and also by selecting 1 incorrectly"
   ]
  },
  {
   "cell_type": "code",
   "execution_count": 7,
   "metadata": {},
   "outputs": [
    {
     "name": "stdout",
     "output_type": "stream",
     "text": [
      "The number of permutations where 1 error is made is 36.\n"
     ]
    }
   ],
   "source": [
    "ways_5_correct_1_incorrect = comb(no_cups_milk_first, 5) * comb(no_cups_milk_first,1)\n",
    "print(f'The number of permutations where 1 error is made is {ways_5_correct_1_incorrect}.')"
   ]
  },
  {
   "cell_type": "code",
   "execution_count": 8,
   "metadata": {},
   "outputs": [
    {
     "name": "stdout",
     "output_type": "stream",
     "text": [
      "The probability where max 1 error is made is 0.040043\n"
     ]
    }
   ],
   "source": [
    "# Probability of selecting at least 5 correct cups (0 or 1 error)\n",
    "probability_at_most_1_error = (correct_ways + ways_5_correct_1_incorrect) / total_ways\n",
    "\n",
    "print(f\"The probability where max 1 error is made is {probability_at_most_1_error:.6f}\")"
   ]
  },
  {
   "cell_type": "code",
   "execution_count": 9,
   "metadata": {},
   "outputs": [
    {
     "name": "stdout",
     "output_type": "stream",
     "text": [
      "we reject the null hypothesis.\n"
     ]
    }
   ],
   "source": [
    "if probability_at_most_1_error > 0.05:\n",
    "    print(\"We accept the null hypothesis.\")\n",
    "else:\n",
    "    print(\"we reject the null hypothesis.\")"
   ]
  },
  {
   "cell_type": "markdown",
   "metadata": {},
   "source": [
    "## *1.3* Would you accept two errors? Explain."
   ]
  },
  {
   "cell_type": "markdown",
   "metadata": {},
   "source": [
    "From using variables created above, he following code calculates the probability of making @ most 2 errors"
   ]
  },
  {
   "cell_type": "code",
   "execution_count": 10,
   "metadata": {},
   "outputs": [
    {
     "name": "stdout",
     "output_type": "stream",
     "text": [
      "The number of permutations for selecting 6 cups with milk first is 924.\n"
     ]
    }
   ],
   "source": [
    "# Calculate the total number of ways to choose 6 items from 12\n",
    "print(f'The number of permutations for selecting 6 cups with milk first is {total_ways}.')"
   ]
  },
  {
   "cell_type": "markdown",
   "metadata": {},
   "source": [
    "calculating number of combinations of selcting 4 corrrectly and also by selecting 2 incorrectly"
   ]
  },
  {
   "cell_type": "code",
   "execution_count": 11,
   "metadata": {},
   "outputs": [
    {
     "name": "stdout",
     "output_type": "stream",
     "text": [
      "The number of permutations for selecting 6 cups with milk first is 225.\n"
     ]
    }
   ],
   "source": [
    "# Calculate the number of ways to make @ most two errors\n",
    "two_errors = math.comb(6, 4) * math.comb(6, 2)\n",
    "print(f'The number of permutations for selecting 6 cups with milk first is {two_errors}.')"
   ]
  },
  {
   "cell_type": "code",
   "execution_count": 12,
   "metadata": {},
   "outputs": [
    {
     "name": "stdout",
     "output_type": "stream",
     "text": [
      "The probability of making @ most two errors (getting 10 out of 12 correct) is 0.243506\n"
     ]
    }
   ],
   "source": [
    "# Calculate the probability of making @ mosty two errors\n",
    "result = two_errors / total_ways\n",
    "print(f\"The probability of making @ most two errors (getting 10 out of 12 correct) is {result:.6f}\")"
   ]
  },
  {
   "cell_type": "code",
   "execution_count": 13,
   "metadata": {},
   "outputs": [
    {
     "name": "stdout",
     "output_type": "stream",
     "text": [
      "We accept the null hypothesis.\n"
     ]
    }
   ],
   "source": [
    "if result > 0.05:\n",
    "    print(\"We accept the null hypothesis.\")\n",
    "else:\n",
    "    print(\"we reject the null hypothesis.\")"
   ]
  },
  {
   "cell_type": "markdown",
   "metadata": {},
   "source": [
    "Since the p-value of 0.243 is greater than 0.05 threshold, we accept the null hypothesis. This means that the lady's ability to distinguish the cups could be due to chance, and there is not enough evidence to conclude that she has a real ability to tell the difference."
   ]
  },
  {
   "cell_type": "markdown",
   "metadata": {},
   "source": [
    "I would not accept two errors as this would increase the chances of the person passing the test by guessing. The alpha level is set @ 0.05 (5% chance of incorrectly rejecting null hypotheses). By analysing probability of 2 errors, we can see that it is way higher than 0.05. Accepting one error is a more realistic threshold."
   ]
  },
  {
   "cell_type": "markdown",
   "metadata": {},
   "source": [
    "***"
   ]
  },
  {
   "cell_type": "markdown",
   "metadata": {},
   "source": [
    "# Task 2: numpy's Normal Distribution\n",
    "***"
   ]
  },
  {
   "attachments": {},
   "cell_type": "markdown",
   "metadata": {},
   "source": [
    "\n",
    "- 2.1 In this task you will assess whether numpy.random.normal() properly generates normal values. To begin, generate a sample of one hundred thousand values using the function with mean 10.0 and standard deviation 3.0.\n",
    "\n",
    "- 2.2 Use the scipy.stats.shapiro() function to test whether your sample came from a normal distribution. Explain the results and output.\n",
    "\n",
    "- 2.3 Plot a histogram of your values and plot the corresponding normal distribution probability density function on top of it."
   ]
  },
  {
   "cell_type": "markdown",
   "metadata": {},
   "source": [
    "### about the normal distribution  \n",
    "\n",
    "The probability density function of the normal distribution is often called the bell curve because of its  shape. It is also called e Gaussian Distribution.  The normal distribution is a continuous probability distribution which is symmetric around the mean. [7] Normal Distribution | Definition, Uses & Examples, geeksforgeeks, https://www.geeksforgeeks.org/normal-distribution/\n",
    "The parameters are \n",
    "\n",
    "-- loc: (mean),\n",
    "-- scale: (standard deviation) \n",
    "-- size: (number to create) "
   ]
  },
  {
   "cell_type": "markdown",
   "metadata": {},
   "source": [
    "## 2.1 \n",
    "In this task you will assess whether numpy.random.normal() properly generates normal values. To begin, generate a sample of one hundred thousand values using the function with mean 10.0 and standard deviation 3.0."
   ]
  },
  {
   "cell_type": "markdown",
   "metadata": {},
   "source": [
    "I will use the following code to generate a sample of one hundred thousand values using the function with mean 10.0 and standard deviation 3.0."
   ]
  },
  {
   "cell_type": "code",
   "execution_count": 14,
   "metadata": {},
   "outputs": [],
   "source": [
    "sample = np.random.normal(loc=10, scale=3, size = 100000)"
   ]
  },
  {
   "cell_type": "markdown",
   "metadata": {},
   "source": [
    "## 2.2 Use the scipy.stats.shapiro() function to test whether your sample came from a normal distribution. Explain the results and output."
   ]
  },
  {
   "cell_type": "markdown",
   "metadata": {},
   "source": [
    "*about scipy.stats.shapiro() function*\n",
    "The Shapiro-Wilk test tests the null hypothesis that the data was drawn from a normal distribution. The sample size must be between 3 & 5,000. It evaluates data from a sample with the null hypothesis that the data set is normally distributed. A large p-value indicates the data set is normally distributed, a low p-value indicates that it isn’t normally distributed.[8] An Introduction to the Shapiro-Wilk Test for Normality,  | Definition, Uses & Examples, builtin.com, https://builtin.com/data-science/shapiro-wilk-test. This is imported with *from scipy.stats import shapiro*\n",
    "\n",
    "Test Statistic W: A value close to 1 indicates that the sample data is close to a normal distribution."
   ]
  },
  {
   "cell_type": "markdown",
   "metadata": {},
   "source": [
    "- P-value > 0.05: We fail to reject the null hypothesis. This means there is no significant evidence to suggest that the sample data does not come from a normal distribution.\n",
    "- P-value ≤ 0.05: We reject the null hypothesis, indicating that the sample data does not come from a normal distribution."
   ]
  },
  {
   "cell_type": "markdown",
   "metadata": {},
   "source": [
    "code to calculate p-value and W statistic"
   ]
  },
  {
   "cell_type": "code",
   "execution_count": 15,
   "metadata": {},
   "outputs": [
    {
     "name": "stdout",
     "output_type": "stream",
     "text": [
      "Shapiro-Wilk Test Statistic: 0.9999857507766121\n",
      "P-value: 0.9901213467907164\n"
     ]
    },
    {
     "name": "stderr",
     "output_type": "stream",
     "text": [
      "c:\\ProgramData\\anaconda3\\Lib\\site-packages\\scipy\\stats\\_axis_nan_policy.py:531: UserWarning: scipy.stats.shapiro: For N > 5000, computed p-value may not be accurate. Current N is 100000.\n",
      "  res = hypotest_fun_out(*samples, **kwds)\n"
     ]
    }
   ],
   "source": [
    "stat, p_value = shapiro(sample)\n",
    "print(f\"Shapiro-Wilk Test Statistic: {stat}\")\n",
    "print(f\"P-value: {p_value}\")"
   ]
  },
  {
   "cell_type": "code",
   "execution_count": 16,
   "metadata": {},
   "outputs": [
    {
     "name": "stdout",
     "output_type": "stream",
     "text": [
      "The sample appears to come from a normal distribution\n"
     ]
    }
   ],
   "source": [
    "# Interpret the results\n",
    "alpha = 0.05\n",
    "if p_value > alpha:\n",
    "    print(\"The sample appears to come from a normal distribution\")\n",
    "else:\n",
    "    print(\"The sample does not appear to come from a normal distribution.\")"
   ]
  },
  {
   "cell_type": "markdown",
   "metadata": {},
   "source": [
    "As demonstrated, the p value is greater than alpha of 0.05. We can also see W statistic is 0.99, so we can assume our sample came from a normal distribution"
   ]
  },
  {
   "cell_type": "markdown",
   "metadata": {},
   "source": [
    "## 2.3 Plot a histogram of your values and plot the corresponding normal distribution probability density function on top of it."
   ]
  },
  {
   "cell_type": "markdown",
   "metadata": {},
   "source": [
    "The norm.pdf is a function from scipy stats module that computes the the probability density function (PDF) of a normal distribution. Probability Density Function (PDF) is a fundamental concept in probability theory that describes the relative likelihood of values in a continuous distribution. The PDF of a random variable X is defined as the derivative of its cumulative distribution function (CDF). The PDF represents the probability density at each point in the distribution and integrates to 1 over the entire range of values. [9] Working with Scipy Stats Norm: A Guide, pieriantraining.com, https://pieriantraining.com/working-with-scipy-stats-norm-a-guide/"
   ]
  },
  {
   "cell_type": "code",
   "execution_count": 17,
   "metadata": {},
   "outputs": [
    {
     "data": {
      "image/png": "[encoded data removed]",
      "text/plain": [
       "<Figure size 640x480 with 1 Axes>"
      ]
     },
     "metadata": {},
     "output_type": "display_data"
    }
   ],
   "source": [
    "# Plot the normal distribution probability density function (PDF)\n",
    "mean = 10.0\n",
    "std_dev = 3.0\n",
    "# x= 100 points betweeen min and max of sample array\n",
    "x = np.linspace(min(sample), max(sample), 100)\n",
    "#ttps://pieriantraining.com/working-with-scipy-stats-norm-a-guide/\n",
    "p = norm.pdf(x, mean, std_dev)\n",
    "plt.plot(x, p, 'k', linewidth=2)\n",
    "\n",
    "#title = \"Sample and PDF\" \n",
    "plt.title(\"Sample and PDF\" )\n",
    "sns.histplot(sample, bins=20,stat=\"density\")\n",
    "plt.legend\n",
    "# Show the plot\n",
    "plt.show()\n"
   ]
  },
  {
   "cell_type": "markdown",
   "metadata": {},
   "source": [
    "***"
   ]
  },
  {
   "cell_type": "markdown",
   "metadata": {},
   "source": [
    "# Task 3: t-Test Calculation\n",
    "***"
   ]
  },
  {
   "cell_type": "markdown",
   "metadata": {},
   "source": [
    "Consider the following dataset containing resting heart rates for patients before and after embarking on a two-week exercise program.\n",
    "\n",
    "Patient ID\t0\t1\t2\t3\t4\t5\t6\t7\t8\t9 \n",
    "\n",
    "Before\t63\t68\t70\t64\t74\t67\t70\t57\t66\t65 \n",
    "\n",
    "After\t64\t64\t68\t64\t73\t70\t72\t54\t61\t63 \n",
    "\n",
    "\n",
    "*3.1* Calculate the t-statistic based on this data set, using Python. Compare it to the value given by scipy.stats. Explain your work and list any sources used."
   ]
  },
  {
   "cell_type": "markdown",
   "metadata": {},
   "source": [
    "#### What is a t-test\n",
    "A t-test is a statistical test used to compare the means of two groups to determine if they are significantly different from each other. It is commonly used in hypothesis testing to assess whether the observed differences between groups are due to chance or if they reflect true differences. The t test is one of the simplest statistical techniques that is used to evaluate whether there is a statistical difference between the means from up to two different samples. The t test is especially useful when you have a small number of sample observations (under 30 or so), and you want to make conclusions about the larger population. [10] The Ultimate Guide to T Tests, GraphPad, https://www.graphpad.com/guides/the-ultimate-guide-to-t-tests"
   ]
  },
  {
   "cell_type": "markdown",
   "metadata": {},
   "source": [
    "#### how does a t-test work\n",
    "t tests make enough assumptions about your experiment to calculate an expected variability, and then they use that to determine if the observed data is statistically significant. You can test the difference between these two groups using a t test and null and alterative hypotheses.\n",
    "\n",
    "The null hypothesis (H0) is that the true difference between these group means is zero. The alternate hypothesis (Ha) is that the true difference is different from zero. [11] An Introduction to t Tests | Definitions, Formula and Examples, Scribbr, https://www.scribbr.com/statistics/t-test/"
   ]
  },
  {
   "cell_type": "markdown",
   "metadata": {},
   "source": [
    "#### Assumptions of a t-test\n",
    "[12] An Introduction to t Tests | Definitions, Formula and Examples, Scribbr, https://www.scribbr.com/statistics/t-test/\n",
    "\n",
    "Independence: The observations in each group must be independent of each other.\n",
    "Normality: The data in each group should be approximately normally distributed.\n",
    "Homogeneity of Variances: The variances of the two groups should be approximately equal.\n",
    "Random Sampling: The data should be collected using a random sampling method.\n",
    "The t-test statistic is calculated using the difference between the group means, the standard deviations, and the sample sizes. Determine the p-value:\n",
    "\n",
    "The p-value indicates the probability of observing the data, or something more extreme, if the null hypothesis is true. Compare the p-value to the Significance Level ((\\alpha)):\n",
    "\n",
    "If the p-value is less than (\\alpha) (commonly 0.05), reject the null hypothesis."
   ]
  },
  {
   "cell_type": "code",
   "execution_count": 18,
   "metadata": {},
   "outputs": [],
   "source": [
    "# Data\n",
    "before = np.array([63, 68, 70, 64, 74, 67, 70, 57, 66, 65])\n",
    "after = np.array([64, 64, 68, 64, 73, 70, 72, 54, 61, 63])\n"
   ]
  },
  {
   "cell_type": "markdown",
   "metadata": {},
   "source": [
    "#### Visualising the data"
   ]
  },
  {
   "cell_type": "code",
   "execution_count": 19,
   "metadata": {},
   "outputs": [
    {
     "data": {
      "image/png": "[encoded data removed]",
      "text/plain": [
       "<Figure size 640x480 with 1 Axes>"
      ]
     },
     "metadata": {},
     "output_type": "display_data"
    }
   ],
   "source": [
    "sns.boxplot(data=[before, after]);"
   ]
  },
  {
   "cell_type": "markdown",
   "metadata": {},
   "source": [
    "Steps :\n",
    "- Calculate the differences between the before and after values.\n",
    "- Compute the mean of these differences.\n",
    "- Calculate the standard deviation of the differences.\n",
    "- Determine the number of observations.\n",
    "- Calculate the t-statistic"
   ]
  },
  {
   "cell_type": "markdown",
   "metadata": {},
   "source": [
    "#### Calculate the t-statistic based on this data set, using Python"
   ]
  },
  {
   "cell_type": "code",
   "execution_count": 20,
   "metadata": {},
   "outputs": [],
   "source": [
    "# Calculate the differences\n",
    "differences = before - after"
   ]
  },
  {
   "cell_type": "code",
   "execution_count": 21,
   "metadata": {},
   "outputs": [],
   "source": [
    "# Calculate the mean of the differences\n",
    "mean_diff = np.mean(differences)"
   ]
  },
  {
   "cell_type": "markdown",
   "metadata": {},
   "source": [
    "dd0f means Delta Degrees of Freedom.  The divisor used in calculations is N - ddof, where N represents the number of elements. By default ddof is zero.  [13] numpy.std, NumPy, https://numpy.org/doc/stable/reference/generated/numpy.std.html\n",
    "\n",
    "\n",
    "The divisor used in the calculation of the standard deviation is ( n - 1 ) instead of ( n ). This adjustment is known as Bessel's correction and is used to provide an unbiased estimate of the population standard deviation from a sample. Using ddof=1 is common practice when calculating the sample standard deviation because it corrects the bias in the estimation of the population variance and standard deviation. Without this correction, the sample standard deviation would tend to underestimate the population standard deviation.  [14] Bessel's correction, WIKIPEDIA, https://en.wikipedia.org/wiki/Bessel%27s_correction"
   ]
  },
  {
   "cell_type": "code",
   "execution_count": 22,
   "metadata": {},
   "outputs": [],
   "source": [
    "# Calculate the standard deviation of the differences\n",
    "std_diff = np.std(differences, ddof=1)\n"
   ]
  },
  {
   "cell_type": "code",
   "execution_count": 23,
   "metadata": {},
   "outputs": [],
   "source": [
    "# Calculate the number of observations\n",
    "n = len(differences)\n",
    "\n",
    "# Calculate the t-statistic\n",
    "t_statistic_manual = mean_diff / (std_diff / np.sqrt(n))"
   ]
  },
  {
   "cell_type": "code",
   "execution_count": 24,
   "metadata": {},
   "outputs": [
    {
     "name": "stdout",
     "output_type": "stream",
     "text": [
      "T-statistic: 1.3372\n"
     ]
    }
   ],
   "source": [
    "print(f\"T-statistic: {t_statistic_manual:.4f}\")"
   ]
  },
  {
   "cell_type": "markdown",
   "metadata": {},
   "source": [
    "#### Compare it to the value given by scipy.stats. Explain your work and list any sources used."
   ]
  },
  {
   "cell_type": "markdown",
   "metadata": {},
   "source": [
    "scipy.stats is the SciPy sub-package. It is mainly used for probabilistic distributions and statistical operations. There is a wide range of probability functions."
   ]
  },
  {
   "cell_type": "markdown",
   "metadata": {},
   "source": [
    "### Using scipy.stats"
   ]
  },
  {
   "cell_type": "code",
   "execution_count": 25,
   "metadata": {},
   "outputs": [
    {
     "name": "stdout",
     "output_type": "stream",
     "text": [
      "T-statistic: 1.3372\n",
      "P-value: 0.21396011317404623\n"
     ]
    }
   ],
   "source": [
    "# Calculate the t-statistic and p-value for the paired sample\n",
    "t_statistic, p_value = ttest_rel(before, after)\n",
    "\n",
    "# Print the results\n",
    "print(f\"T-statistic: {t_statistic:.4f}\")\n",
    "print(f\"P-value: {p_value}\")"
   ]
  },
  {
   "cell_type": "code",
   "execution_count": 26,
   "metadata": {},
   "outputs": [
    {
     "name": "stdout",
     "output_type": "stream",
     "text": [
      "The t-statistic calculated manually is 1.33722748, and is 1.33722748 using scipy.stats \n"
     ]
    }
   ],
   "source": [
    "print(f\"The t-statistic calculated manually is {t_statistic_manual:.8f}, and is {t_statistic:.8f} using scipy.stats \")"
   ]
  },
  {
   "cell_type": "markdown",
   "metadata": {},
   "source": [
    "***"
   ]
  },
  {
   "cell_type": "markdown",
   "metadata": {},
   "source": [
    "# Task 4: Anova"
   ]
  },
  {
   "attachments": {},
   "cell_type": "markdown",
   "metadata": {},
   "source": [
    "In this test we will estimate the probability of committing a type II error in specific circumstances. \n",
    "\n",
    "- 4.1 To begin, create a variable called no_type_ii and set it to 0.\n",
    "\n",
    "- 4.2 Now use a loop to perform the following test 10,000 times.\n",
    "\n",
    "- 4.3 Use numpy.random.normal to generate three samples with 100 values each. Give each a standard deviation of 0.1. Give the first sample a mean of 4.9, the second a mean of 5.0, and the third a mean of 5.1.\n",
    "\n",
    "- 4.4.1  Perform one-way anova on the three samples \n",
    "- 4.4.2  add 1 to no_type_ii whenever a type II error occurs.\n",
    "\n",
    "- 4.5 Summarize and explain your results."
   ]
  },
  {
   "cell_type": "markdown",
   "metadata": {},
   "source": [
    "#### Anova description\n",
    "Anova stands for Analysis of Variance. Anova is a statistical method used to compare the means of three or more groups to determine if there are any statistically significant differences among them. ANOVA assesses the variability within and between groups to help researchers understand if the observed differences are due to chance or indicate true effects.[15] ANOVA (Analysis of variance),ResearchMethod.Net, https://researchmethod.net/anova/. In short they help determine if the null hypotheses is rejected or the alternate hypotheses is accepted [16] Anova Formula,geeksforgeeks.org, https://www.geeksforgeeks.org/anova-formula/"
   ]
  },
  {
   "cell_type": "markdown",
   "metadata": {},
   "source": [
    "#### types of Anova\n",
    "The types of Anova are ; \n",
    "- one way Anova which compares the means of three or more groups based on a single independent variable \n",
    "- two way Anova is used when there are two independent variables \n",
    "- repeated measure Anova s used when the same subjects are tested under different conditions over time -- Manova (multivariate) handles multiple dependent variables"
   ]
  },
  {
   "cell_type": "markdown",
   "metadata": {},
   "source": [
    "A one-way ANOVA uses the following null and alternative hypotheses:\n",
    "\n",
    "- H0: All group means are equal.\n",
    "- HA: At least one group mean is different from the rest. [17] What Does a High F Value Mean in ANOVA?, statology, https://www.statology.org/what-does-a-high-f-value-mean/"
   ]
  },
  {
   "cell_type": "markdown",
   "metadata": {},
   "source": [
    "Results of Anova\n",
    "The F-statistic The F- statisic is the ratio of the mean squares treatment to the mean squares error:\n",
    "- F-statistic: Mean Squares Treatment / Mean Squares Error\n",
    "\n",
    "*The larger the F-statistic, the greater the variation between sample means relative to the variation within the samples.*\n",
    "\n",
    "p-value To determine if the difference between group means is statistically significant, we can look at the p-value that corresponds to the F-statistic. To find the p-value that corresponds to this F-value, we can use an F Distribution Calculator with numerator degrees of freedom = df Treatment and denominator degrees of freedom = df Error.\n",
    "The F statistic must be used in combination with the p value when you are deciding if your overall results are significant. [18] F Statistic / F Value: Simple Definition and Interpretation, Statistics How To, https://www.statisticshowto.com/probability-and-statistics/f-statistic-value-test/"
   ]
  },
  {
   "cell_type": "markdown",
   "metadata": {},
   "source": [
    "## 4.1 To begin, create a variable called no_type_ii and set it to 0."
   ]
  },
  {
   "cell_type": "code",
   "execution_count": 27,
   "metadata": {},
   "outputs": [],
   "source": [
    "# Initialize the variable @ 0\n",
    "no_type_ii = 0"
   ]
  },
  {
   "cell_type": "markdown",
   "metadata": {},
   "source": [
    "## 4.2 Now use a loop to perform the following test 10,000 times.\n",
    "## 4.3 Use numpy.random.normal to generate three samples with 100 values each. Give each a standard deviation of 0.1. Give the first sample a mean of 4.9, the second a mean of 5.0, and the third a mean of 5.1."
   ]
  },
  {
   "cell_type": "code",
   "execution_count": 28,
   "metadata": {},
   "outputs": [],
   "source": [
    "# Perform the test 10,000 times\n",
    "for _ in range(10000):\n",
    "    # Generate three samples with 100 values with std dev @ 0.1 and mean of 4.9,5 & 5.1\n",
    "    sample1 = np.random.normal(4.9, 0.1, 100)\n",
    "    sample2 = np.random.normal(5.0, 0.1, 100)\n",
    "    sample3 = np.random.normal(5.1, 0.1, 100)\n",
    "\n",
    "    data = np.concatenate([sample1, sample2, sample3])"
   ]
  },
  {
   "cell_type": "markdown",
   "metadata": {},
   "source": [
    "## 4.4.1 Perform one-way anova on the three samples "
   ]
  },
  {
   "cell_type": "code",
   "execution_count": 29,
   "metadata": {},
   "outputs": [],
   "source": [
    "#Create the labels.\n",
    "labels = ['sample1'] * 100 + ['sample2'] * 100 + ['sample3'] * 100\n",
    "\n",
    "# Show.\n",
    "#labels\n",
    "df = pd.DataFrame({'sample': labels, 'value': data})\n",
    "#df\n",
    "a_sample = df[df['sample'] == 'sample1']['value']\n",
    "b_sample = df[df['sample'] == 'sample2']['value']\n",
    "c_sample = df[df['sample'] == 'sample3']['value']"
   ]
  },
  {
   "cell_type": "code",
   "execution_count": 30,
   "metadata": {},
   "outputs": [
    {
     "name": "stdout",
     "output_type": "stream",
     "text": [
      "f_statistic: 113.062866\n",
      "p_value: 0.000000\n"
     ]
    }
   ],
   "source": [
    "# Perform ANOVA.\n",
    "f_statistic, p_value = stats.f_oneway(a_sample, b_sample, c_sample )\n",
    "print(f\"f_statistic: {f_statistic:.6f}\")\n",
    "print(f\"p_value: {p_value:.6f}\")\n",
    "#print(f\"F-statistic: {f_statistic}, p-value: {p_value}\")"
   ]
  },
  {
   "cell_type": "code",
   "execution_count": 31,
   "metadata": {},
   "outputs": [
    {
     "name": "stdout",
     "output_type": "stream",
     "text": [
      "There is a significant difference between groups a_sample, b_sample & c_sample.\n"
     ]
    }
   ],
   "source": [
    "alpha = 0.05\n",
    "if p_value < alpha:\n",
    "    print(\"There is a significant difference between groups a_sample, b_sample & c_sample.\")\n",
    "else:\n",
    "    print(\"There is no significant difference between groups a_sample, b_sample & c_sample.\")"
   ]
  },
  {
   "cell_type": "markdown",
   "metadata": {},
   "source": [
    "## 4.4.2 add 1 to no_type_ii whenever a type II error occurs"
   ]
  },
  {
   "cell_type": "markdown",
   "metadata": {},
   "source": [
    "#### types of error\n",
    " a Type I error is a false positive conclusion, while a Type II error is a false negative conclusion. The probability of making a Type I error is the significance level, or alpha (α), while the probability of making a Type II error is beta (β). These risks can be minimized through careful planning in your study design.  [19] Type I & Type II Errors | Differences, Examples, Visualizations, scribbr, https://www.scribbr.com/statistics/type-i-and-type-ii-errors/\n",
    "\n",
    "-- Rejecting the null hypothesis when it is in fact true is called a *Type I error*. \n",
    "-- Not rejecting the null hypothesis when in fact the alternate hypothesis is true is called a *Type II error*. [20] Type I and II Errors and Significance Levels, web.ma.utexas.edu, https://web.ma.utexas.edu/users/mks/statmistakes/errortypes.html"
   ]
  },
  {
   "cell_type": "code",
   "execution_count": 32,
   "metadata": {},
   "outputs": [
    {
     "name": "stdout",
     "output_type": "stream",
     "text": [
      "There are no type II errors\n"
     ]
    }
   ],
   "source": [
    "if p_value > .05:\n",
    "    no_type_ii+=1\n",
    "    print(f\"Number of Type II errors: {no_type_ii}\")\n",
    "else:\n",
    "    print('There are no type II errors')"
   ]
  },
  {
   "cell_type": "markdown",
   "metadata": {},
   "source": [
    "## 4.5 Summarize and explain your results."
   ]
  },
  {
   "cell_type": "markdown",
   "metadata": {},
   "source": [
    "#### Results of Anova \n",
    "The results of the Anova test are;\n",
    "- f_statistic value of [f_statistic],\n",
    "- p_value of [p_value] "
   ]
  },
  {
   "cell_type": "markdown",
   "metadata": {},
   "source": [
    "The f_statistic is a ratio that compares the variance between the group means to the variance within the groups. A high f_statistic indicates that the variance between the group means is large relative to the variance within the groups. The higher the F-value, the lower the corresponding p-value. [21] What Does a High F Value Mean in ANOVA?, statology, https://www.statology.org/what-does-a-high-f-value-mean/"
   ]
  },
  {
   "cell_type": "markdown",
   "metadata": {},
   "source": [
    "A very low p_value (much less than 0.05) indicates that the observed differences between group means are highly unlikely to have occurred by chance. We can reject the null hypothesis and conclude that there are statistically significant differences between the means of the three samples. The one-way ANOVA test shows that there are significant differences between the means of the three samples. The high f_statistic and extremely low p_value confirm that the means of 4.9, 5.0, and 5.1 are not equal and that these differences are statistically significant."
   ]
  },
  {
   "attachments": {},
   "cell_type": "markdown",
   "metadata": {},
   "source": [
    "# References\n",
    "\n",
    "- [1] Lady tasting tea, wikipedia, https://en.wikipedia.org/wiki/Lady_tasting_tea. \n",
    "- [2] How a tea-tasting test led to a breakthrough in statistics, irishtimes, https://www.https://www.irishtimes.com/news/science/how-a-tea-tasting-test-led-to-a-breakthrough-in-statistics-1.3998786\n",
    "- [3] Null Hypothesis, geeksforgeeks, https://www.geeksforgeeks.org/null-hypothesis/\n",
    "- [4] LEARN STATISTICS EASILY, statisticseasily, https://statisticseasily.com/lady-tasting-tea\n",
    "- [5] Python math.comb() Method, w3schools, https://www.w3schools.com/python/ref_math_comb.asp\n",
    "- [6] P-Value And Statistical Significance: What It Is & Why It Matters, simplypsychology, https://www.simplypsychology.org/p-value.html\n",
    "- [7] Normal Distribution | Definition, Uses & Examples, geeksforgeeks, https://www.geeksforgeeks.org/normal-distribution/\n",
    "- [8] An Introduction to the Shapiro-Wilk Test for Normality,  | Definition, Uses & Examples, builtin.com, https://builtin.com/data-science/shapiro-wilk-test\n",
    "- [9] Working with Scipy Stats Norm: A Guide, pieriantraining.com, https://pieriantraining.com/working-with-scipy-stats-norm-a-guide/\n",
    "- [10] The Ultimate Guide to T Tests, GraphPad, https://www.graphpad.com/guides/the-ultimate-guide-to-t-tests\n",
    "- [11] An Introduction to t Tests | Definitions, Formula and Examples, Scribbr, https://www.scribbr.com/statistics/t-test/\n",
    "- [12] An Introduction to t Tests | Definitions, Formula and Examples, Scribbr, https://www.scribbr.com/statistics/t-test/\n",
    "- [13] numpy.std, NumPy, https://numpy.org/doc/stable/reference/generated/numpy.std.html\n",
    "- [14] Bessel's correction, WIKIPEDIA, https://en.wikipedia.org/wiki/Bessel%27s_correction\n",
    "- [15] ANOVA (Analysis of variance),ResearchMethod.Net, https://researchmethod.net/anova/\n",
    "- [16] Anova Formula,geeksforgeeks.org, https://www.geeksforgeeks.org/anova-formula/\n",
    "- [17] What Does a High F Value Mean in ANOVA?, statology, https://www.statology.org/what-does-a-high-f-value-mean/\n",
    "- [18] F Statistic / F Value: Simple Definition and Interpretation, Statistics How To, https://www.statisticshowto.com/probability-and-statistics/f-statistic-value-test/\n",
    "- [19] TType I & Type II Errors | Differences, Examples, Visualizations, scribbr, https://www.scribbr.com/statistics/type-i-and-type-ii-errors/\n",
    "- [20] Type I and II Errors and Significance Levels, web.ma.utexas.edu, https://web.ma.utexas.edu/users/mks/statmistakes/errortypes.html\n",
    "- [21] What Does a High F Value Mean in ANOVA?, statology, https://www.statology.org/what-does-a-high-f-value-mean/"
   ]
  },
  {
   "cell_type": "markdown",
   "metadata": {},
   "source": [
    "***"
   ]
  }
 ],
 "metadata": {
  "kernelspec": {
   "display_name": "base",
   "language": "python",
   "name": "python3"
  },
  "language_info": {
   "codemirror_mode": {
    "name": "ipython",
    "version": 3
   },
   "file_extension": ".py",
   "mimetype": "text/x-python",
   "name": "python",
   "nbconvert_exporter": "python",
   "pygments_lexer": "ipython3",
   "version": "3.12.7"
  },
  "orig_nbformat": 4,
  "vscode": {
   "interpreter": {
    "hash": "3c06e3e46abf38078fe4dac36a0085ec2b134ebbd73dd076183d243eeca6918f"
   }
  }
 },
 "nbformat": 4,
 "nbformat_minor": 2
}
