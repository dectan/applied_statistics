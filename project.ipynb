{
 "cells": [
  {
   "attachments": {},
   "cell_type": "markdown",
   "metadata": {},
   "source": [
    "# Title: Project on PlantGrowth R dataset\n",
    "***"
   ]
  },
  {
   "cell_type": "markdown",
   "metadata": {},
   "source": [
    "![title](img/GMIT-Galway-Campus.jpg)"
   ]
  },
  {
   "cell_type": "code",
   "execution_count": 1,
   "metadata": {},
   "outputs": [],
   "source": [
    "# overview of librarys and functions in README\n",
    "import seaborn as sns\n",
    "import pandas as pd\n",
    "import matplotlib.pyplot as plt\n",
    "import numpy as np\n",
    "from scipy import stats\n",
    "import statsmodels.api as sm\n",
    "from statsmodels.stats.multicomp import pairwise_tukeyhsd"
   ]
  },
  {
   "cell_type": "markdown",
   "metadata": {},
   "source": [
    "# Project Scope\n",
    "\n",
    "In this project, you will analyze the PlantGrowth R dataset. You will find a short description of it on Vicent Arel-Bundock's Rdatasets page. The dataset contains two main variables, a treatment group and the weight of plants within those groups.  \n",
    "\n",
    "Your task is to perform t-tests and ANOVA on this dataset while describing the dataset and explaining your work. In doing this you should:  \n",
    "\n",
    "- 1. Download and save the dataset to your repository.\n",
    "\n",
    "- 2. Describe the data set in your notebook.\n",
    "\n",
    "- 3. Describe what a t-test is, how it works, and what the assumptions are.\n",
    "\n",
    "- 4. Perform a t-test to determine whether there is a significant difference between the two treatment groups trt1 and trt2.\n",
    "\n",
    "- 5. Perform ANOVA to determine whether there is a significant difference between the three treatment groups ctrl, trt1, and trt2.\n",
    "\n",
    "- 6. Explain why it is more appropriate to apply ANOVA rather than several t-tests when analyzing more than two groups."
   ]
  },
  {
   "cell_type": "markdown",
   "metadata": {},
   "source": [
    "## Introduction\n",
    "This dataset documents the \"Results from an experiment to compare yields (as measured by dried weight of plants) obtained under a control and two different treatment conditions.\" [1] PlantGrowth: Results from an Experiment on Plant Growth, rdrr, https://rdrr.io/r/datasets/PlantGrowth.html. This dataset is often used for statistical analysis and educational purposes. It contains data on the effect of different treatments on plant growth, specifically the weight of plants under three conditions: a control group and two treatment groups. There are 30 observations with 10 plants in each  group."
   ]
  },
  {
   "cell_type": "markdown",
   "metadata": {},
   "source": [
    "## 1. Download and saving the dataset to repository."
   ]
  },
  {
   "attachments": {},
   "cell_type": "markdown",
   "metadata": {},
   "source": [
    "I have saved dataset in a folder called *imported_datasets* as a .csv file called plantgrowth. I will use the following code to read file and store the data in data frame called df."
   ]
  },
  {
   "cell_type": "code",
   "execution_count": 2,
   "metadata": {},
   "outputs": [],
   "source": [
    "df=pd.read_csv('data_folder/plantgrowth.csv')"
   ]
  },
  {
   "attachments": {},
   "cell_type": "markdown",
   "metadata": {},
   "source": [
    "## 2. Describing the dataset."
   ]
  },
  {
   "attachments": {},
   "cell_type": "markdown",
   "metadata": {},
   "source": [
    "I will use the *.head* & *.tail* to examine first and last 5 rows of data. "
   ]
  },
  {
   "cell_type": "code",
   "execution_count": 3,
   "metadata": {},
   "outputs": [
    {
     "data": {
      "text/html": [
       "<div>\n",
       "<style scoped>\n",
       "    .dataframe tbody tr th:only-of-type {\n",
       "        vertical-align: middle;\n",
       "    }\n",
       "\n",
       "    .dataframe tbody tr th {\n",
       "        vertical-align: top;\n",
       "    }\n",
       "\n",
       "    .dataframe thead th {\n",
       "        text-align: right;\n",
       "    }\n",
       "</style>\n",
       "<table border=\"1\" class=\"dataframe\">\n",
       "  <thead>\n",
       "    <tr style=\"text-align: right;\">\n",
       "      <th></th>\n",
       "      <th>rownames</th>\n",
       "      <th>weight</th>\n",
       "      <th>group</th>\n",
       "    </tr>\n",
       "  </thead>\n",
       "  <tbody>\n",
       "    <tr>\n",
       "      <th>0</th>\n",
       "      <td>1</td>\n",
       "      <td>4.17</td>\n",
       "      <td>ctrl</td>\n",
       "    </tr>\n",
       "    <tr>\n",
       "      <th>1</th>\n",
       "      <td>2</td>\n",
       "      <td>5.58</td>\n",
       "      <td>ctrl</td>\n",
       "    </tr>\n",
       "    <tr>\n",
       "      <th>2</th>\n",
       "      <td>3</td>\n",
       "      <td>5.18</td>\n",
       "      <td>ctrl</td>\n",
       "    </tr>\n",
       "    <tr>\n",
       "      <th>3</th>\n",
       "      <td>4</td>\n",
       "      <td>6.11</td>\n",
       "      <td>ctrl</td>\n",
       "    </tr>\n",
       "    <tr>\n",
       "      <th>4</th>\n",
       "      <td>5</td>\n",
       "      <td>4.50</td>\n",
       "      <td>ctrl</td>\n",
       "    </tr>\n",
       "  </tbody>\n",
       "</table>\n",
       "</div>"
      ],
      "text/plain": [
       "   rownames  weight group\n",
       "0         1    4.17  ctrl\n",
       "1         2    5.58  ctrl\n",
       "2         3    5.18  ctrl\n",
       "3         4    6.11  ctrl\n",
       "4         5    4.50  ctrl"
      ]
     },
     "execution_count": 3,
     "metadata": {},
     "output_type": "execute_result"
    }
   ],
   "source": [
    "df.head(5)"
   ]
  },
  {
   "cell_type": "code",
   "execution_count": 4,
   "metadata": {},
   "outputs": [
    {
     "data": {
      "text/html": [
       "<div>\n",
       "<style scoped>\n",
       "    .dataframe tbody tr th:only-of-type {\n",
       "        vertical-align: middle;\n",
       "    }\n",
       "\n",
       "    .dataframe tbody tr th {\n",
       "        vertical-align: top;\n",
       "    }\n",
       "\n",
       "    .dataframe thead th {\n",
       "        text-align: right;\n",
       "    }\n",
       "</style>\n",
       "<table border=\"1\" class=\"dataframe\">\n",
       "  <thead>\n",
       "    <tr style=\"text-align: right;\">\n",
       "      <th></th>\n",
       "      <th>rownames</th>\n",
       "      <th>weight</th>\n",
       "      <th>group</th>\n",
       "    </tr>\n",
       "  </thead>\n",
       "  <tbody>\n",
       "    <tr>\n",
       "      <th>25</th>\n",
       "      <td>26</td>\n",
       "      <td>5.29</td>\n",
       "      <td>trt2</td>\n",
       "    </tr>\n",
       "    <tr>\n",
       "      <th>26</th>\n",
       "      <td>27</td>\n",
       "      <td>4.92</td>\n",
       "      <td>trt2</td>\n",
       "    </tr>\n",
       "    <tr>\n",
       "      <th>27</th>\n",
       "      <td>28</td>\n",
       "      <td>6.15</td>\n",
       "      <td>trt2</td>\n",
       "    </tr>\n",
       "    <tr>\n",
       "      <th>28</th>\n",
       "      <td>29</td>\n",
       "      <td>5.80</td>\n",
       "      <td>trt2</td>\n",
       "    </tr>\n",
       "    <tr>\n",
       "      <th>29</th>\n",
       "      <td>30</td>\n",
       "      <td>5.26</td>\n",
       "      <td>trt2</td>\n",
       "    </tr>\n",
       "  </tbody>\n",
       "</table>\n",
       "</div>"
      ],
      "text/plain": [
       "    rownames  weight group\n",
       "25        26    5.29  trt2\n",
       "26        27    4.92  trt2\n",
       "27        28    6.15  trt2\n",
       "28        29    5.80  trt2\n",
       "29        30    5.26  trt2"
      ]
     },
     "execution_count": 4,
     "metadata": {},
     "output_type": "execute_result"
    }
   ],
   "source": [
    "df.tail(5)"
   ]
  },
  {
   "cell_type": "markdown",
   "metadata": {},
   "source": [
    "This dataset includes 2 variables, weight and  group. "
   ]
  },
  {
   "attachments": {},
   "cell_type": "markdown",
   "metadata": {},
   "source": [
    "By using *.info* I can see there are 3 columns and 30 rows. There are no null values in the dataset.\n",
    "- Weight is a numeric variable representing the weight of the plants. Its is a quantitative & continuous variable. It is a float64 dtype\n",
    "- Group is a categorical variable with 3 levels, 'ctrl' (control group), 'trt1' (treatment 1), and 'trt2' (treatment 2). It is a qualitative variable"
   ]
  },
  {
   "cell_type": "code",
   "execution_count": 5,
   "metadata": {},
   "outputs": [
    {
     "name": "stdout",
     "output_type": "stream",
     "text": [
      "<class 'pandas.core.frame.DataFrame'>\n",
      "RangeIndex: 30 entries, 0 to 29\n",
      "Data columns (total 3 columns):\n",
      " #   Column    Non-Null Count  Dtype  \n",
      "---  ------    --------------  -----  \n",
      " 0   rownames  30 non-null     int64  \n",
      " 1   weight    30 non-null     float64\n",
      " 2   group     30 non-null     object \n",
      "dtypes: float64(1), int64(1), object(1)\n",
      "memory usage: 852.0+ bytes\n"
     ]
    }
   ],
   "source": [
    "df.info()"
   ]
  },
  {
   "attachments": {},
   "cell_type": "markdown",
   "metadata": {},
   "source": [
    "Nominal and ratio data types are both used to describe categorical variables. The difference between the two data types is that ordinal data has ordered categories and nominal data does not.\n",
    "\n",
    "Group is Nominal as the category’s 'ctrl', 'trt1', and 'trt2' have no inherent order"
   ]
  },
  {
   "attachments": {},
   "cell_type": "markdown",
   "metadata": {},
   "source": [
    "| weight | group |\n",
    "| --- | --- |\n",
    "| numerical | categorical |\n",
    "| Quantitative | Quantitative |\n",
    "| continuous | categorical |\n",
    "| ratio* | nominal |\n",
    "| float | string | "
   ]
  },
  {
   "cell_type": "markdown",
   "metadata": {},
   "source": [
    "![title](img/variable.jpg)"
   ]
  },
  {
   "attachments": {},
   "cell_type": "markdown",
   "metadata": {},
   "source": [
    "*df.describe* displays valuable information about the dataset such as the mean, standard deviation, min & max for each variable."
   ]
  },
  {
   "cell_type": "code",
   "execution_count": 6,
   "metadata": {},
   "outputs": [
    {
     "data": {
      "text/html": [
       "<div>\n",
       "<style scoped>\n",
       "    .dataframe tbody tr th:only-of-type {\n",
       "        vertical-align: middle;\n",
       "    }\n",
       "\n",
       "    .dataframe tbody tr th {\n",
       "        vertical-align: top;\n",
       "    }\n",
       "\n",
       "    .dataframe thead th {\n",
       "        text-align: right;\n",
       "    }\n",
       "</style>\n",
       "<table border=\"1\" class=\"dataframe\">\n",
       "  <thead>\n",
       "    <tr style=\"text-align: right;\">\n",
       "      <th></th>\n",
       "      <th>rownames</th>\n",
       "      <th>weight</th>\n",
       "    </tr>\n",
       "  </thead>\n",
       "  <tbody>\n",
       "    <tr>\n",
       "      <th>count</th>\n",
       "      <td>30.000000</td>\n",
       "      <td>30.000000</td>\n",
       "    </tr>\n",
       "    <tr>\n",
       "      <th>mean</th>\n",
       "      <td>15.500000</td>\n",
       "      <td>5.073000</td>\n",
       "    </tr>\n",
       "    <tr>\n",
       "      <th>std</th>\n",
       "      <td>8.803408</td>\n",
       "      <td>0.701192</td>\n",
       "    </tr>\n",
       "    <tr>\n",
       "      <th>min</th>\n",
       "      <td>1.000000</td>\n",
       "      <td>3.590000</td>\n",
       "    </tr>\n",
       "    <tr>\n",
       "      <th>25%</th>\n",
       "      <td>8.250000</td>\n",
       "      <td>4.550000</td>\n",
       "    </tr>\n",
       "    <tr>\n",
       "      <th>50%</th>\n",
       "      <td>15.500000</td>\n",
       "      <td>5.155000</td>\n",
       "    </tr>\n",
       "    <tr>\n",
       "      <th>75%</th>\n",
       "      <td>22.750000</td>\n",
       "      <td>5.530000</td>\n",
       "    </tr>\n",
       "    <tr>\n",
       "      <th>max</th>\n",
       "      <td>30.000000</td>\n",
       "      <td>6.310000</td>\n",
       "    </tr>\n",
       "  </tbody>\n",
       "</table>\n",
       "</div>"
      ],
      "text/plain": [
       "        rownames     weight\n",
       "count  30.000000  30.000000\n",
       "mean   15.500000   5.073000\n",
       "std     8.803408   0.701192\n",
       "min     1.000000   3.590000\n",
       "25%     8.250000   4.550000\n",
       "50%    15.500000   5.155000\n",
       "75%    22.750000   5.530000\n",
       "max    30.000000   6.310000"
      ]
     },
     "execution_count": 6,
     "metadata": {},
     "output_type": "execute_result"
    }
   ],
   "source": [
    "df.describe()"
   ]
  },
  {
   "cell_type": "markdown",
   "metadata": {},
   "source": [
    "I will check the mean of each group. "
   ]
  },
  {
   "cell_type": "code",
   "execution_count": 7,
   "metadata": {},
   "outputs": [
    {
     "name": "stdout",
     "output_type": "stream",
     "text": [
      "The mean weight per group is :group\n",
      "ctrl    5.032\n",
      "trt1    4.661\n",
      "trt2    5.526\n",
      "Name: weight, dtype: float64\n"
     ]
    }
   ],
   "source": [
    "mean_weight_per_group = df.groupby('group')['weight'].mean()\n",
    "print(f\"The mean weight per group is :{mean_weight_per_group}\")\n"
   ]
  },
  {
   "cell_type": "markdown",
   "metadata": {},
   "source": [
    "This will be explored further below in t-test and ANOVA sections, but the biggest difference between the means is between ctrl & trt1."
   ]
  },
  {
   "cell_type": "code",
   "execution_count": 8,
   "metadata": {},
   "outputs": [
    {
     "data": {
      "text/plain": [
       "rownames      int64\n",
       "weight      float64\n",
       "group        object\n",
       "dtype: object"
      ]
     },
     "execution_count": 8,
     "metadata": {},
     "output_type": "execute_result"
    }
   ],
   "source": [
    "df.dtypes"
   ]
  },
  {
   "cell_type": "markdown",
   "metadata": {},
   "source": [
    "I will use  a pairplot to visualise the dataset. A pairplot displays pairwise relationships between variables in the dataset. In this case, it shows the relationship between weight and group.\n",
    "The hue parameter colours the points by the group variable, allowing us to see how different groups compare. This helps in visualizing any potential correlations or differences between the groups. Pairplot is a module of seaborn library. [2] PAIRPLOT VISUALIZATION, medium.com, https://medium.com/analytics-vidhya/pairplot-visualization-16325cd725e6. Pairplots can easily display distribution, clustering etc."
   ]
  },
  {
   "cell_type": "code",
   "execution_count": 9,
   "metadata": {},
   "outputs": [
    {
     "data": {
      "image/png": "[encoded data removed]",
      "text/plain": [
       "<Figure size 575.625x500 with 6 Axes>"
      ]
     },
     "metadata": {},
     "output_type": "display_data"
    }
   ],
   "source": [
    "sns.pairplot(df, hue= 'group')\n",
    "plt.show()"
   ]
  },
  {
   "cell_type": "markdown",
   "metadata": {},
   "source": [
    "To show there are 10 observations per group I will introduce a countplot. A count plot can be thought of as a histogram across a categorical, instead of quantitative, variable. The basic API and options are identical to those for barplot(), so you can compare counts across nested variables.\n",
    "\n",
    "[3] seaborn.countplot, seaborn, https://seaborn.pydata.org/generated/seaborn.countplot.html."
   ]
  },
  {
   "cell_type": "code",
   "execution_count": 10,
   "metadata": {},
   "outputs": [
    {
     "data": {
      "image/png": "[encoded data removed]",
      "text/plain": [
       "<Figure size 640x480 with 1 Axes>"
      ]
     },
     "metadata": {},
     "output_type": "display_data"
    }
   ],
   "source": [
    "sns.countplot(x='group', data=df)\n",
    "plt.title('Bar Chart of Species')\n",
    "plt.xlabel('group')\n",
    "plt.ylabel('Count')\n",
    "plt.legend\n",
    "plt.show()\n"
   ]
  },
  {
   "attachments": {},
   "cell_type": "markdown",
   "metadata": {},
   "source": [
    "A boxplot displays the distribution of a continuous variable (weight) across different categories (group). It shows the median, quartiles, and potential outliers for each group. This helps us compare the central tendency and spread of weights across the control and treatment groups."
   ]
  },
  {
   "cell_type": "code",
   "execution_count": 11,
   "metadata": {},
   "outputs": [
    {
     "data": {
      "image/png": "[encoded data removed]",
      "text/plain": [
       "<Figure size 640x480 with 1 Axes>"
      ]
     },
     "metadata": {},
     "output_type": "display_data"
    }
   ],
   "source": [
    "sns.boxplot(data=df, x = 'group', y = 'weight',hue=\"group\" )\n",
    "plt.title('Boxplot of data')\n",
    "plt.xlabel('group')\n",
    "plt.ylabel('weight')\n",
    "plt.legend(['weight','group'])\n",
    "plt.show()"
   ]
  },
  {
   "cell_type": "code",
   "execution_count": 12,
   "metadata": {},
   "outputs": [
    {
     "data": {
      "image/png": "[encoded data removed]",
      "text/plain": [
       "<Figure size 640x480 with 1 Axes>"
      ]
     },
     "metadata": {},
     "output_type": "display_data"
    }
   ],
   "source": [
    "sns.histplot(data=df, x=\"weight\", hue=\"group\", bins=20)\n",
    "plt.title(\"Histogram of weight for three categories\")\n",
    "plt.xlabel(\"weight\")\n",
    "plt.ylabel(\"Count\")\n",
    "plt.legend\n",
    "plt.show()"
   ]
  },
  {
   "attachments": {},
   "cell_type": "markdown",
   "metadata": {},
   "source": [
    "## 3. Describe what a t-test is, how it works, and what the assumptions are."
   ]
  },
  {
   "attachments": {},
   "cell_type": "markdown",
   "metadata": {},
   "source": [
    "#### What is a t-test\n",
    "\n",
    "A t-test is a statistical test used to compare the means of two groups to determine if they are significantly different from each other. It is commonly used in hypothesis testing to assess whether the observed differences between groups are due to chance or if they reflect true differences. The t test is one of the simplest statistical techniques that is used to evaluate whether there is a statistical difference between the means from up to two different samples. The t test is especially useful when you have a small number of sample observations (under 30 or so), and you want to make conclusions about the larger population. [4] The Ultimate Guide to T Tests, GraphPad, https://www.graphpad.com/guides/the-ultimate-guide-to-t-tests\n",
    "\n",
    "#### how does a t-test work \n",
    "t tests make enough assumptions about your experiment to calculate an expected variability, and then they use that to determine if the observed data is statistically significant.  You can test the difference between these two groups using a t test and null and alterative hypotheses.\n",
    "\n",
    "The null hypothesis (H0) is that the true difference between these group means is zero.\n",
    "The alternate hypothesis (Ha) is that the true difference is different from zero. [5] An Introduction to t Tests | Definitions, Formula and Examples, Scribbr, https://www.scribbr.com/statistics/t-test/\n",
    "\n",
    "#### Assumptions of a t-test\n",
    "\n",
    "[6] An Introduction to t Tests | Definitions, Formula and Examples, Scribbr, https://www.scribbr.com/statistics/t-test/\n",
    "-  Independence: The observations in each group must be independent of each other.\n",
    "-  Normality: The data in each group should be approximately normally distributed.\n",
    "-  Homogeneity of Variances: The variances of the two groups should be approximately equal.\n",
    "-  Random Sampling: The data should be collected using a random sampling method.\n",
    "\n",
    "\n",
    "The t-test statistic is calculated using the difference between the group means, the standard deviations, and the sample sizes.\n",
    "Determine the p-value:\n",
    "\n",
    "The p-value indicates the probability of observing the data, or something more extreme, if the null hypothesis is true.\n",
    "Compare the p-value to the Significance Level ((\\alpha)):\n",
    "\n",
    "If the p-value is less than (\\alpha) (commonly 0.05), reject the null hypothesis."
   ]
  },
  {
   "cell_type": "markdown",
   "metadata": {},
   "source": [
    " \n",
    " #### types of t test\n",
    "\n",
    " [7] T Test Overview: How to Use & Examples, Statistics By Jim, https://statisticsbyjim.com/hypothesis-testing/t-test/\n",
    "The following are the standard t tests:\n",
    "\n",
    "-  One-sample: Compares a sample mean to a reference value.\n",
    "-  Two-sample: Compares two sample means.\n",
    "-  Paired: Compares the means of matched pairs, such as before and after scores."
   ]
  },
  {
   "cell_type": "markdown",
   "metadata": {},
   "source": [
    "#### Interpretation of the T-statistic\n",
    "The t-statistic measures the size of the difference relative to the variation in your sample data. The negative sign indicates the direction of the difference, the mean of the first group is lower than the mean of the second group. The p-value calculated with this t-statistic is used to determine statistical significance."
   ]
  },
  {
   "cell_type": "markdown",
   "metadata": {},
   "source": [
    "## 4. Perform a t-test to determine whether there is a significant difference between the two treatment groups trt1 and trt2."
   ]
  },
  {
   "cell_type": "markdown",
   "metadata": {},
   "source": [
    "I have imported stats from scipy. As mentioned above, t-test is a simple statistical technique to evaluate whether there is a statistical difference between the means. As there are 3 groups in this dataset, the following code separates the data into 3 groups. ctrl, trt1 & trt2. "
   ]
  },
  {
   "cell_type": "code",
   "execution_count": 13,
   "metadata": {},
   "outputs": [],
   "source": [
    "# code for t test\n",
    "# Separate the data into two treatment groups: trt1 and trt2\n",
    "trt1 = df[df.group == 'trt1']['weight']\n",
    "trt2 = df[df.group == 'trt2']['weight']\n",
    "ctrl = df[df.group == 'ctrl']['weight']"
   ]
  },
  {
   "cell_type": "markdown",
   "metadata": {},
   "source": [
    "# performing t-test for trt1 & trt2"
   ]
  },
  {
   "cell_type": "code",
   "execution_count": 14,
   "metadata": {},
   "outputs": [
    {
     "name": "stdout",
     "output_type": "stream",
     "text": [
      "T-statistic of control trt1 & trt2 is: -3.010099\n",
      "P-value of control trt1 & trt2 is: 0.007518\n",
      "There is a significant difference between the two treatment groups (trt1 & trt2).\n"
     ]
    }
   ],
   "source": [
    "# Perform a t-test to determine if there is a significant difference between trt1 & trt2\n",
    "t_stat2, p_value2 = stats.ttest_ind(trt1, trt2)\n",
    "\n",
    "print(f\"T-statistic of control trt1 & trt2 is: {t_stat2:.6f}\")\n",
    "print(f\"P-value of control trt1 & trt2 is: {p_value2:.6f}\")\n",
    "\n",
    "# Check if the result is significant\n",
    "alpha = 0.05\n",
    "if p_value2 < alpha:\n",
    "    print(\"There is a significant difference between the two treatment groups (trt1 & trt2).\")\n",
    "else:\n",
    "    print(\"There is no significant difference between the two treatment groups (trt1 & trt2).\")"
   ]
  },
  {
   "cell_type": "markdown",
   "metadata": {},
   "source": [
    "Typically, the alpha threshold is 0.05 and a returned p-value of less than alpha is considered statistically significant. As can be seen above by p-value score is 0.007518, which is less than alpha so there was a significant difference between the two groups."
   ]
  },
  {
   "cell_type": "markdown",
   "metadata": {},
   "source": [
    "I will now perform t-test on the following groups.\n",
    "- ctrl & trt1\n",
    "- ctrl & trt2"
   ]
  },
  {
   "cell_type": "code",
   "execution_count": 15,
   "metadata": {},
   "outputs": [
    {
     "name": "stdout",
     "output_type": "stream",
     "text": [
      "T-statistic of control and trt1 group is: 1.191260\n",
      "P-value of control and trt1 group is: 0.249023\n",
      "There is no significant difference between the two treatment groups (control and trt1 group).\n"
     ]
    }
   ],
   "source": [
    "# Perform a t-test to determine if there is a significant difference between control and trt1 group\n",
    "t_stat, p_value = stats.ttest_ind(ctrl, trt1)\n",
    "\n",
    "print(f\"T-statistic of control and trt1 group is: {t_stat:.6f}\")\n",
    "print(f\"P-value of control and trt1 group is: {p_value:.6f}\")\n",
    "\n",
    "# Check if the result is significant\n",
    "alpha = 0.05\n",
    "if p_value < alpha:\n",
    "    print(\"There is a significant difference between the two treatment groups (control and trt1 group).\")\n",
    "else:\n",
    "    print(\"There is no significant difference between the two treatment groups (control and trt1 group).\")"
   ]
  },
  {
   "cell_type": "code",
   "execution_count": 16,
   "metadata": {},
   "outputs": [
    {
     "name": "stdout",
     "output_type": "stream",
     "text": [
      "T-statistic of control and trt2 group is: -2.134020\n",
      "P-value of control and trt2 group is: 0.046851\n",
      "There is a significant difference between the two treatment groups (ctrl and trt2 group).\n"
     ]
    }
   ],
   "source": [
    "# Perform a t-test to determine if there is a significant difference between control and trt2 group\n",
    "t_stat1, p_value1 = stats.ttest_ind(ctrl, trt2)\n",
    "\n",
    "print(f\"T-statistic of control and trt2 group is: {t_stat1:.6f}\")\n",
    "print(f\"P-value of control and trt2 group is: {p_value1:.6f}\")\n",
    "\n",
    "# Check if the result is significant\n",
    "alpha = 0.05\n",
    "if p_value1 < alpha:\n",
    "    print(\"There is a significant difference between the two treatment groups (ctrl and trt2 group).\")\n",
    "else:\n",
    "    print(\"There is no significant difference between the two treatment groups (ctrl and trt2 group).\")"
   ]
  },
  {
   "cell_type": "markdown",
   "metadata": {},
   "source": [
    "### t-test Conclusion\n",
    "Typically, the alpha threshold is 0.05 and a returned p-value of less than alpha is considered statistically significant. As can be seen above by p-value scores, the only 2 groups with no significant difference between the two treatment groups are control and trt1. A p-value of 0.0468 between these groups indicates that the observed difference in plant growth could be due to random variation. The other t-tests performed indicated that there was a significant difference between the two groups based on the respective p-values. "
   ]
  },
  {
   "cell_type": "markdown",
   "metadata": {},
   "source": [
    "***"
   ]
  },
  {
   "attachments": {},
   "cell_type": "markdown",
   "metadata": {},
   "source": [
    "## 5. Perform ANOVA to determine whether there is a significant difference between the three treatment groups ctrl, trt1, and trt2."
   ]
  },
  {
   "attachments": {},
   "cell_type": "markdown",
   "metadata": {},
   "source": [
    "#### Anova description\n",
    "Anova stands for Analysis of Variance.  Anova is a  statistical method used to compare the means of three or more groups to determine if there are any statistically significant differences among them. ANOVA assesses the variability within and between groups to help researchers understand if the observed differences are due to chance or indicate true effects.[8] ANOVA (Analysis of variance),ResearchMethod.Net, https://researchmethod.net/anova/. In short they help determine if the null hypotheses is rejected or the alternate hypotheses is accepted [9] Anova Formula,geeksforgeeks.org, https://www.geeksforgeeks.org/anova-formula/"
   ]
  },
  {
   "cell_type": "markdown",
   "metadata": {},
   "source": [
    "#### results of Anova\n",
    "\n",
    "[10] A Simple Guide to Understanding the F-Test of Overall Significance in Regression, statology, https://www.statology.org/a-simple-guide-to-understanding-the-f-test-of-overall-significance-in-regression/\n",
    "\n",
    "- Null hypothesis (H0) : The model with no predictor variables (also known as an intercept-only model) fits the data as well as your regression model. \n",
    "\n",
    "- Alternative hypothesis (HA) : Your regression model fits the data better than the intercept-only model."
   ]
  },
  {
   "attachments": {},
   "cell_type": "markdown",
   "metadata": {},
   "source": [
    "#### types of Anova \n",
    "\n",
    "The types of Anova are ;\n",
    "- one way Anova which compares the means of three or more groups based on a *single independent variable*\n",
    "- two way Anova is used when there are *two independent variables*\n",
    "- repeated measure Anova s used when the same subjects are tested under different conditions over time\n",
    "- Manova (multivariate) handles multiple dependent variables"
   ]
  },
  {
   "attachments": {},
   "cell_type": "markdown",
   "metadata": {},
   "source": [
    "#### limitations of Anova\n",
    "Anova determines if variables are significantly different, but it does not distinguish which variables are statistically significant. The one way ANOVA is an omnibus test statistic. This implies that the test will determine whether the means of the various groups are statistically significant or not. However, it cannot distinguish the specific groups that have a statistically significant mean. [11] ANOVA Test, CUEMATH, https://www.cuemath.com/anova-formula/. Significantly different indicates the results didn't happen by chance [12] F Statistic / F Value: Simple Definition and Interpretation, Statistics How To, https://www.statisticshowto.com/probability-and-statistics/f-statistic-value-test/\n",
    "\n",
    "To identify which specific groups are different, post-hoc tests like *Tukey's test* are performed."
   ]
  },
  {
   "cell_type": "markdown",
   "metadata": {},
   "source": [
    "![anova](img/anova.jpg)"
   ]
  },
  {
   "attachments": {},
   "cell_type": "markdown",
   "metadata": {},
   "source": [
    "#### Results of Anova\n",
    "\n",
    "1. F-statistic \n",
    "The f-statistic represents the ratio of the variance between the groups to the variance within the groups.[13] Understanding ANOVA: When and How to Use It in Your Research, statology, https://www.statology.org/understanding-anova-when-and-how-to-use-it-in-your-research/\n",
    "\n",
    "- F-statistic: Mean Squares Treatment / Mean Squares Error. A higher F-statistic suggests that there is more variability between the group means than within the groups, which can indicate a significant difference between the groups.\n",
    "\n",
    "2. p-value\n",
    "To determine if the difference between group means is statistically significant, the corresponding p-value is interpreted.\n",
    "\n",
    "The F statistic must be used in combination with the p value when you are deciding if your overall results are significant or not. [14] F Statistic / F Value: Simple Definition and Interpretation, Statistics How To, https://www.statisticshowto.com/probability-and-statistics/f-statistic-value-test/"
   ]
  },
  {
   "cell_type": "markdown",
   "metadata": {},
   "source": [
    "#### 5. Perform ANOVA to determine whether there is a significant difference between the three treatment groups ctrl, trt1, and trt2."
   ]
  },
  {
   "cell_type": "markdown",
   "metadata": {},
   "source": [
    "The following code performs one-way Anova on the dataset and prints the f-statistic and the p-value"
   ]
  },
  {
   "cell_type": "code",
   "execution_count": 17,
   "metadata": {},
   "outputs": [
    {
     "name": "stdout",
     "output_type": "stream",
     "text": [
      "ANOVA result: F-statistic = 4.846087862380136, p-value = 0.0159099583256229\n"
     ]
    }
   ],
   "source": [
    "# Perform ANOVA\n",
    "anova_result = stats.f_oneway(df[df['group'] == 'ctrl']['weight'],\n",
    "                              df[df['group'] == 'trt1']['weight'],\n",
    "                              df[df['group'] == 'trt2']['weight'])\n",
    "\n",
    "# Print the results\n",
    "print(f\"ANOVA result: F-statistic = {anova_result.statistic}, p-value = {anova_result.pvalue}\")"
   ]
  },
  {
   "cell_type": "code",
   "execution_count": 18,
   "metadata": {},
   "outputs": [
    {
     "name": "stdout",
     "output_type": "stream",
     "text": [
      "There is a significant difference between groups ctrl,trt1 & trt2.\n"
     ]
    }
   ],
   "source": [
    "alpha = 0.05\n",
    "if anova_result.pvalue < alpha:\n",
    "    print(\"There is a significant difference between groups ctrl,trt1 & trt2.\")\n",
    "else:\n",
    "    print(\"There is no significant difference between groups ctrl,trt1 & trt2.\")"
   ]
  },
  {
   "attachments": {},
   "cell_type": "markdown",
   "metadata": {},
   "source": [
    "#### Results of ANOVA test\n",
    "p-value = 0.0159: This value tells us the probability that the observed differences between the group means occurred by chance. *alpha* is 0.05 which is a common threshold for statistical significance. The p-value is less than 0.05.\n",
    "\n",
    "Interpretation:\n",
    "Since the p-value is less than 0.05, we reject the null hypothesis. This means there is a statistically significant difference between the means of the three treatment groups (ctrl, trt1, and trt2). In other words, at least one of the treatment groups has a different mean weight compared to the others. To identify which groups are different, Post-Hoc Tests like Tukey's  is used. "
   ]
  },
  {
   "cell_type": "markdown",
   "metadata": {},
   "source": [
    "#### Brief overview of Tukey’s honestly significant difference (HSD)\n",
    "Tukey’s honestly significant difference (HSD) test performs pairwise comparison of means for a set of samples. Tukey’s HSD is a post hoc test used to compare the mean of each sample to the mean of each other sample. The null hypothesis is that the distributions underlying the samples all have the same mean. The test statistic, which is computed for every possible pairing of samples, is simply the difference [15] tukey_hsd,SciPy, https://docs.scipy.org/doc/scipy/reference/generated/scipy.stats.tukey_hsd.html"
   ]
  },
  {
   "cell_type": "markdown",
   "metadata": {},
   "source": [
    "The following code for Tukey which I have altered was sourced here [16] How to Perform Tukey’s Test in Python,Statology, https://www.statology.org/tukey-test-python/"
   ]
  },
  {
   "cell_type": "code",
   "execution_count": 19,
   "metadata": {},
   "outputs": [
    {
     "name": "stdout",
     "output_type": "stream",
     "text": [
      "Multiple Comparison of Means - Tukey HSD, FWER=0.05\n",
      "===================================================\n",
      "group1 group2 meandiff p-adj   lower  upper  reject\n",
      "---------------------------------------------------\n",
      "  ctrl   trt1   -0.371 0.3909 -1.0622 0.3202  False\n",
      "  ctrl   trt2    0.494  0.198 -0.1972 1.1852  False\n",
      "  trt1   trt2    0.865  0.012  0.1738 1.5562   True\n",
      "---------------------------------------------------\n"
     ]
    }
   ],
   "source": [
    "import statsmodels.api as sm\n",
    "from statsmodels.stats.multicomp import pairwise_tukeyhsd\n",
    "# Perform Tukey's HSD test\n",
    "tukey = pairwise_tukeyhsd(endog=df['weight'], groups=df['group'], alpha=0.05)\n",
    "\n",
    "# Print the results\n",
    "print(tukey)"
   ]
  },
  {
   "cell_type": "markdown",
   "metadata": {},
   "source": [
    "- ctrl vs. trt1: The mean difference is -0.371, with a p-value of 0.3909. Since the p-value is greater than 0.05, the difference is not statistically significant.\n",
    "- ctrl vs. trt2: The mean difference is 0.494, with a p-value of 0.198. Again, the p-value is greater than 0.05, so the difference is not statistically significant.\n",
    "- trt1 vs. trt2: The mean difference is 0.865, with a p-value of 0.012. Here, the p-value is less than 0.05, indicating a statistically significant difference.\n",
    "As seen when performing t-tests above, there is a significant difference between the two treatment groups (trt1 & trt2) but not between the remaining groups."
   ]
  },
  {
   "cell_type": "markdown",
   "metadata": {},
   "source": [
    "## 6. Explain why it is more appropriate to apply ANOVA rather than several t-tests when analyzing more than two groups."
   ]
  },
  {
   "cell_type": "markdown",
   "metadata": {},
   "source": [
    " Performing multiple t-tests on the same data is inefficient and time consuming. This is especially true when the number of groups in the dataset increases. ANOVA is designed to compare the means of three or more groups simultaneously. ANOVA provides a single test to determine if there are any significant differences among the group means, simplifying the analysis process. \n",
    " \n",
    " Another reason ANOVA is more appropriate to apply than several t-tests is because every time a t-test is conducted, the chances of making a type I error increases. A Type I error is a false positive. Rejecting the null hypothesis when it is in fact true is called a *Type I error* [17] Type I and II Errors and Significance Levels, web.ma.utexas.edu, https://web.ma.utexas.edu/users/mks/statmistakes/errortypes.html\n",
    "\"This error is usually 5%. By running two t-tests on the same data you will have increased your chance of \"making a mistake\" to 10%.\" [18] One-way ANOVA, statistics.laerd, https://statistics.laerd.com/statistical-guides/one-way-anova-statistical-guide-2.php. For each t-test there is a chance that we will commit a type I error, which is the probability that we reject the null hypothesis when it is actually true. ANOVA controls for these errors so that the Type I error remains at just 5%."
   ]
  },
  {
   "cell_type": "markdown",
   "metadata": {},
   "source": [
    "# Conclusion\n",
    "As mentioned, this dataset documents the \"Results from an experiment to compare yields (as measured by dried weight of plants) obtained under a control and two different treatment conditions. After loading the dataset into a dataframe called *df*, it is clear the dataset is balanced with 10 observations per group. (ctrl, trt1 & trt2)\n",
    "\n",
    "For the *t-test* performed, an *alpha* 0f 0.05 was used. The t-test results indicated the two treatment groups with no significant are ctrl and trt1 based on p-value being greater than alpha. The t-tests between the other groups returned p-values less than alpha, indicating there was a significant difference between the groups.\n",
    "\n",
    "ANOVA (Analysis of Variance) is a statistical method used to compare the means of three or more groups to see if at least one group mean is significantly different from the others. For the *ANOVA* tests, an *alpha* 0f 0.05 was used. The ANOVA tests performed in this notebook were to investigate if there are significant differences in plant growth across the three groups ctrl, trt1 & trt2. The resulting p-value of 0.0159 is less than alpha, this indicates that at least one group mean is significantly different from the others. ANOVA can only tell if there is a significant difference between the means of at least two groups, but it can’t explain which pair differs in their means. To identify which groups are different, Post-Hoc Tests like Tukey's HSD is used. "
   ]
  },
  {
   "cell_type": "markdown",
   "metadata": {},
   "source": [
    "# References\n",
    "- [1] PlantGrowth: Results from an Experiment on Plant Growth, rdrr, https://rdrr.io/r/datasets/PlantGrowth.html.\n",
    "- [2] PAIRPLOT VISUALIZATION, medium.com, https://medium.com/analytics-vidhya/pairplot-visualization-16325cd725e6.\n",
    "- [3] seaborn.countplot, seaborn, https://seaborn.pydata.org/generated/seaborn.countplot.html.\n",
    "- [4] The Ultimate Guide to T Tests, GraphPad, https://www.graphpad.com/guides/the-ultimate-guide-to-t-tests\n",
    "- [5] An Introduction to t Tests | Definitions, Formula and Examples, Scribbr, https://www.scribbr.com/statistics/t-test/\n",
    "- [6] An Introduction to t Tests | Definitions, Formula and Examples, Scribbr, https://www.scribbr.com/statistics/t-test/\n",
    "- [7] T Test Overview: How to Use & Examples, Statistics By Jim, https://statisticsbyjim.com/hypothesis-testing/t-test/\n",
    "- [8] ANOVA (Analysis of variance),ResearchMethod.Net, https://researchmethod.net/anova/.\n",
    "- [9] Anova Formula,geeksforgeeks.org, https://www.geeksforgeeks.org/anova-formula/\n",
    "- [10] A Simple Guide to Understanding the F-Test of Overall Significance in Regression, statology, https://www.statology.org/-simple-guide-to-understanding-the-f-test-of-overall-significance-in-regression/\n",
    "- [11] ANOVA Test, CUEMATH, https://www.cuemath.com/anova-formula/. \n",
    "- [12] F Statistic / F Value: Simple Definition and Interpretation, Statistics How To, https://www.statisticshowto.com/probability-and-statistics/f-statistic-value-test/\n",
    "- [13] Understanding ANOVA: When and How to Use It in Your Research, statology, https://www.statology.org/understanding-anova-when-and-how-to-use-it-in-your-research/\n",
    "- [14] F Statistic / F Value: Simple Definition and Interpretation, Statistics How To, https://www.statisticshowto.com/probability-and-statistics/f-statistic-value-test/\n",
    "- [15] tukey_hsd,SciPy, https://docs.scipy.org/doc/scipy/reference/generated/scipy.stats.tukey_hsd.html\n",
    "- [16] How to Perform Tukey’s Test in Python,Statology, https://www.statology.org/tukey-test-python/\n",
    "- [17] Type I and II Errors and Significance Levels, web.ma.utexas.edu, https://web.ma.utexas.edu/users/mks/statmistakes/errortypes.html\n",
    "- [18] One-way ANOVA, statistics.laerd, https://statistics.laerd.com/statistical-guides/one-way-anova-statistical-guide-2.php\n",
    "\n",
    "\n",
    "\n"
   ]
  },
  {
   "cell_type": "markdown",
   "metadata": {},
   "source": [
    "***"
   ]
  }
 ],
 "metadata": {
  "kernelspec": {
   "display_name": "base",
   "language": "python",
   "name": "python3"
  },
  "language_info": {
   "codemirror_mode": {
    "name": "ipython",
    "version": 3
   },
   "file_extension": ".py",
   "mimetype": "text/x-python",
   "name": "python",
   "nbconvert_exporter": "python",
   "pygments_lexer": "ipython3",
   "version": "3.12.7"
  },
  "orig_nbformat": 4,
  "vscode": {
   "interpreter": {
    "hash": "3c06e3e46abf38078fe4dac36a0085ec2b134ebbd73dd076183d243eeca6918f"
   }
  }
 },
 "nbformat": 4,
 "nbformat_minor": 2
}
